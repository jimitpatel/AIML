{
 "cells": [
  {
   "cell_type": "markdown",
   "metadata": {
    "colab_type": "text",
    "id": "zVBF1CVgkVV5"
   },
   "source": [
    "# Natural Language Processing Project - Seq NLP\n",
    "\n",
    "## Objective\n",
    "\n",
    "The objective of this project is to build a text classification model that analyses the customer's sentiments based on their reviews in the IMDB database. The model uses a complex deep learning model to build an embedding layer followed by a classification algorithm to analyze the sentiment of the customers.\n",
    "\n",
    "## Project Description\n",
    "\n",
    "Generate Word Embedding and retrieve output of each layer with Keras based on Classification task.\n",
    "\n",
    "Word embedding are a type of word representation that allows words with similar meaning to have similar representation.\n",
    "\n",
    "It is a distributed representation for the text that is perhaps one of the key breakthroughs for the impressive performance of deep learning methods on challenging natural language processing problems.\n",
    "\n",
    "We will use the IMDB dataset to learn word embedding as we train our dataset. This dataset contains 25,000 movie reviews from IMDB, labeled with a sentiment (positive or negative).\n",
    "\n",
    "## Dataset\n",
    "\n",
    "The Dataset of 25,000 movie review from IMDB, labeled by sentiment (positive/negative). Reviews have been preprocessed, and each review is encoded as a sequence of word indexes (integers). For convenience, the words are indexed by their frequency in the dataset, meaning the index 1 is the most frequent word. Use the first 20 words from each review to speed up training, using a max vocab size of 10,000.\n",
    "\n",
    "As a convention, \"**0**\" does not stand for a specific word, but instead is used to encode any unknown word.\n",
    "\n",
    "## Steps and task\n",
    "\n",
    "### 1. Import test and train data (5 points)\n",
    "\n",
    "*   Command to import data `from tensorflow.keras.datasets import imdb`\n",
    "*   Use `imdb.load_data()` method\n",
    "*   Get train and test set\n",
    "*   Take 10,000 most frequent words\n",
    "\n"
   ]
  },
  {
   "cell_type": "code",
   "execution_count": 1,
   "metadata": {
    "colab": {},
    "colab_type": "code",
    "id": "_uYVXsT2kM2s"
   },
   "outputs": [],
   "source": [
    "from tensorflow.keras.datasets import imdb\n",
    "import numpy as np"
   ]
  },
  {
   "cell_type": "code",
   "execution_count": 2,
   "metadata": {
    "colab": {
     "base_uri": "https://localhost:8080/",
     "height": 51
    },
    "colab_type": "code",
    "id": "OPy-2nglprOV",
    "outputId": "600fb1c8-6d28-42e4-d2ca-f7e8c62c9a87"
   },
   "outputs": [
    {
     "name": "stdout",
     "output_type": "stream",
     "text": [
      "Downloading data from https://storage.googleapis.com/tensorflow/tf-keras-datasets/imdb.npz\n",
      "17465344/17464789 [==============================] - 0s 0us/step\n"
     ]
    }
   ],
   "source": [
    "NUM_OF_WORDS = 10000\n",
    "INDEX_FROM = 0\n",
    "(X_train, y_train), (X_test, y_test) = imdb.load_data(num_words=NUM_OF_WORDS, index_from=INDEX_FROM)"
   ]
  },
  {
   "cell_type": "code",
   "execution_count": 3,
   "metadata": {
    "colab": {
     "base_uri": "https://localhost:8080/",
     "height": 34
    },
    "colab_type": "code",
    "id": "-A3jEp3LJsOB",
    "outputId": "751c34f5-6686-4f76-bd82-7be14b6dd95c"
   },
   "outputs": [
    {
     "name": "stderr",
     "output_type": "stream",
     "text": [
      "Using TensorFlow backend.\n"
     ]
    }
   ],
   "source": [
    "from keras.preprocessing import sequence"
   ]
  },
  {
   "cell_type": "code",
   "execution_count": 4,
   "metadata": {
    "colab": {},
    "colab_type": "code",
    "id": "H-byL9LKJwHo"
   },
   "outputs": [],
   "source": [
    "MAX_WORDS = 300\n",
    "X_train = sequence.pad_sequences(X_train, maxlen=MAX_WORDS)\n",
    "X_test = sequence.pad_sequences(X_test, maxlen=MAX_WORDS)"
   ]
  },
  {
   "cell_type": "code",
   "execution_count": 5,
   "metadata": {
    "colab": {
     "base_uri": "https://localhost:8080/",
     "height": 187
    },
    "colab_type": "code",
    "id": "8mob8f2Y6CN1",
    "outputId": "48a2e7b5-2778-481b-f7a9-a1ce68e84bd2"
   },
   "outputs": [
    {
     "name": "stdout",
     "output_type": "stream",
     "text": [
      "Training data shape  (25000, 300)\n",
      "Training output data shape  (25000,)\n",
      "____________________________________________________________________________________________________\n",
      "Testing data shape  (25000, 300)\n",
      "Testing output data shape  (25000,)\n",
      "____________________________________________________________________________________________________\n",
      "Maximum value of a word index \n",
      "9999\n",
      "Maximum length num words of review in train \n",
      "300\n"
     ]
    }
   ],
   "source": [
    "print(\"Training data shape \", X_train.shape)\n",
    "print(\"Training output data shape \", y_train.shape)\n",
    "print(\"_\"*100)\n",
    "print(\"Testing data shape \", X_test.shape)\n",
    "print(\"Testing output data shape \", y_test.shape)\n",
    "print(\"_\"*100)\n",
    "print(\"Maximum value of a word index \")\n",
    "print(max([max(sequence) for sequence in X_train]))\n",
    "print(\"Maximum length num words of review in train \")\n",
    "print(max([len(sequence) for sequence in X_train]))"
   ]
  },
  {
   "cell_type": "markdown",
   "metadata": {
    "colab_type": "text",
    "id": "qWilUakvma6t"
   },
   "source": [
    "### 2. Import the labels (train and test) (5 points)"
   ]
  },
  {
   "cell_type": "code",
   "execution_count": 6,
   "metadata": {
    "colab": {
     "base_uri": "https://localhost:8080/",
     "height": 51
    },
    "colab_type": "code",
    "id": "68kyprWJmf3l",
    "outputId": "a93c90ff-267e-4862-ba1b-e4c55c969471"
   },
   "outputs": [
    {
     "name": "stdout",
     "output_type": "stream",
     "text": [
      "Downloading data from https://storage.googleapis.com/tensorflow/tf-keras-datasets/imdb_word_index.json\n",
      "1646592/1641221 [==============================] - 0s 0us/step\n"
     ]
    }
   ],
   "source": [
    "word_to_id = imdb.get_word_index()"
   ]
  },
  {
   "cell_type": "markdown",
   "metadata": {
    "colab_type": "text",
    "id": "OO2ZFHHZmgfj"
   },
   "source": [
    "### 3. Get the word index and then create a key-value pair for word and word_id (15 points)"
   ]
  },
  {
   "cell_type": "code",
   "execution_count": 7,
   "metadata": {
    "colab": {},
    "colab_type": "code",
    "id": "XIaZ9sOEUShw"
   },
   "outputs": [],
   "source": [
    "word_to_id = {k:(v + INDEX_FROM) for k,v in word_to_id.items()}\n",
    "word_to_id[\"<UNKNOWN>\"] = 0"
   ]
  },
  {
   "cell_type": "code",
   "execution_count": 8,
   "metadata": {
    "colab": {},
    "colab_type": "code",
    "id": "bC-ac559ZB1v"
   },
   "outputs": [],
   "source": [
    "id_to_word = {value:key for key,value in word_to_id.items()}\n",
    "def get_sentence(index_array):\n",
    "  return ' '.join(id_to_word[id] for id in index_array)"
   ]
  },
  {
   "cell_type": "code",
   "execution_count": 9,
   "metadata": {
    "colab": {
     "base_uri": "https://localhost:8080/",
     "height": 54
    },
    "colab_type": "code",
    "id": "H1Mw2l5KUtZ9",
    "outputId": "728bdc07-9bfe-49ca-e5e5-919b3d939ad5"
   },
   "outputs": [
    {
     "name": "stdout",
     "output_type": "stream",
     "text": [
      "<UNKNOWN> <UNKNOWN> <UNKNOWN> <UNKNOWN> <UNKNOWN> <UNKNOWN> <UNKNOWN> <UNKNOWN> <UNKNOWN> <UNKNOWN> <UNKNOWN> <UNKNOWN> <UNKNOWN> <UNKNOWN> <UNKNOWN> <UNKNOWN> <UNKNOWN> <UNKNOWN> <UNKNOWN> <UNKNOWN> <UNKNOWN> <UNKNOWN> <UNKNOWN> <UNKNOWN> <UNKNOWN> <UNKNOWN> <UNKNOWN> <UNKNOWN> <UNKNOWN> <UNKNOWN> <UNKNOWN> <UNKNOWN> <UNKNOWN> <UNKNOWN> <UNKNOWN> <UNKNOWN> <UNKNOWN> <UNKNOWN> <UNKNOWN> <UNKNOWN> <UNKNOWN> <UNKNOWN> <UNKNOWN> <UNKNOWN> <UNKNOWN> <UNKNOWN> <UNKNOWN> <UNKNOWN> <UNKNOWN> <UNKNOWN> <UNKNOWN> <UNKNOWN> <UNKNOWN> <UNKNOWN> <UNKNOWN> <UNKNOWN> <UNKNOWN> <UNKNOWN> <UNKNOWN> <UNKNOWN> <UNKNOWN> <UNKNOWN> <UNKNOWN> <UNKNOWN> <UNKNOWN> <UNKNOWN> <UNKNOWN> <UNKNOWN> <UNKNOWN> <UNKNOWN> <UNKNOWN> <UNKNOWN> <UNKNOWN> <UNKNOWN> <UNKNOWN> <UNKNOWN> <UNKNOWN> <UNKNOWN> <UNKNOWN> <UNKNOWN> <UNKNOWN> <UNKNOWN> <UNKNOWN> <UNKNOWN> <UNKNOWN> <UNKNOWN> <UNKNOWN> <UNKNOWN> <UNKNOWN> <UNKNOWN> <UNKNOWN> <UNKNOWN> <UNKNOWN> <UNKNOWN> <UNKNOWN> <UNKNOWN> <UNKNOWN> <UNKNOWN> <UNKNOWN> <UNKNOWN> <UNKNOWN> <UNKNOWN> <UNKNOWN> <UNKNOWN> <UNKNOWN> <UNKNOWN> <UNKNOWN> <UNKNOWN> <UNKNOWN> <UNKNOWN> <UNKNOWN> <UNKNOWN> <UNKNOWN> <UNKNOWN> <UNKNOWN> <UNKNOWN> <UNKNOWN> <UNKNOWN> <UNKNOWN> <UNKNOWN> <UNKNOWN> <UNKNOWN> <UNKNOWN> <UNKNOWN> <UNKNOWN> <UNKNOWN> <UNKNOWN> <UNKNOWN> <UNKNOWN> <UNKNOWN> <UNKNOWN> <UNKNOWN> <UNKNOWN> <UNKNOWN> <UNKNOWN> <UNKNOWN> <UNKNOWN> <UNKNOWN> <UNKNOWN> <UNKNOWN> <UNKNOWN> <UNKNOWN> <UNKNOWN> <UNKNOWN> <UNKNOWN> <UNKNOWN> <UNKNOWN> <UNKNOWN> <UNKNOWN> <UNKNOWN> <UNKNOWN> <UNKNOWN> <UNKNOWN> <UNKNOWN> <UNKNOWN> <UNKNOWN> <UNKNOWN> <UNKNOWN> <UNKNOWN> the this has to be one of the worst films of the 1990s when my friends i were watching this film being the target audience it was aimed at we just sat watched the first half an hour with our jaws touching the floor at how bad it really was the rest of the time everyone else in the theatre just started talking to each other leaving or generally crying into their popcorn that they actually paid money they had and working to watch this feeble excuse for a film it must have looked like a great idea on paper but on film it looks like no one in the film has a clue what is going on crap acting crap costumes i can't get across how and this is to watch save yourself an hour a bit of your life\n"
     ]
    }
   ],
   "source": [
    "print(get_sentence(X_train[2]))"
   ]
  },
  {
   "cell_type": "code",
   "execution_count": 10,
   "metadata": {
    "colab": {
     "base_uri": "https://localhost:8080/",
     "height": 34
    },
    "colab_type": "code",
    "id": "BeCa3-b_aL18",
    "outputId": "efef6d29-cde9-47f2-efaa-77acf1af9ab2"
   },
   "outputs": [
    {
     "name": "stdout",
     "output_type": "stream",
     "text": [
      "0\n"
     ]
    }
   ],
   "source": [
    "print(y_train[2]) # 0: Negative, 1: Positive"
   ]
  },
  {
   "cell_type": "markdown",
   "metadata": {
    "colab_type": "text",
    "id": "pvDf5hiRmv4K"
   },
   "source": [
    "### 4. Build a Sequential Model using Keras for Sentiment Classification task (15 points)"
   ]
  },
  {
   "cell_type": "code",
   "execution_count": 11,
   "metadata": {
    "colab": {},
    "colab_type": "code",
    "id": "hm1kNfUCKGWg"
   },
   "outputs": [],
   "source": [
    "from keras.models import Sequential\n",
    "from keras.layers import Dense\n",
    "from keras.layers import Flatten\n",
    "from keras.layers import Dropout\n",
    "from keras.layers.embeddings import Embedding\n",
    "from keras import regularizers"
   ]
  },
  {
   "cell_type": "code",
   "execution_count": 12,
   "metadata": {
    "colab": {
     "base_uri": "https://localhost:8080/",
     "height": 306
    },
    "colab_type": "code",
    "id": "m-upcIXSxm1R",
    "outputId": "e6b0a70a-e4ca-421a-fb7d-575ff4da0fd6"
   },
   "outputs": [
    {
     "name": "stdout",
     "output_type": "stream",
     "text": [
      "Model: \"sequential_1\"\n",
      "_________________________________________________________________\n",
      "Layer (type)                 Output Shape              Param #   \n",
      "=================================================================\n",
      "embedding_1 (Embedding)      (None, 300, 32)           320000    \n",
      "_________________________________________________________________\n",
      "flatten_1 (Flatten)          (None, 9600)              0         \n",
      "_________________________________________________________________\n",
      "dense_1 (Dense)              (None, 200)               1920200   \n",
      "_________________________________________________________________\n",
      "dense_2 (Dense)              (None, 1)                 201       \n",
      "=================================================================\n",
      "Total params: 2,240,401\n",
      "Trainable params: 2,240,401\n",
      "Non-trainable params: 0\n",
      "_________________________________________________________________\n",
      "None\n"
     ]
    }
   ],
   "source": [
    "model = Sequential()\n",
    "model.add(Embedding(NUM_OF_WORDS, 32, input_length=MAX_WORDS))\n",
    "model.add(Flatten())\n",
    "model.add(Dense(200, activation='relu'))\n",
    "model.add(Dense(1, activation='sigmoid'))\n",
    "\n",
    "model.compile(loss='binary_crossentropy', optimizer='adam', metrics=['accuracy'])\n",
    "print(model.summary())"
   ]
  },
  {
   "cell_type": "code",
   "execution_count": 13,
   "metadata": {
    "colab": {},
    "colab_type": "code",
    "id": "ptTuuaXZ1ODH"
   },
   "outputs": [],
   "source": [
    "from keras.callbacks import EarlyStopping, ReduceLROnPlateau\n",
    "stop = EarlyStopping(monitor=\"val_accuracy\", patience=5, mode=\"auto\")\n",
    "reduce_lr = ReduceLROnPlateau(monitor=\"val_accuracy\", factor=0.001, patience=5, min_lr=1e-10, verbose=1, mode=\"auto\")"
   ]
  },
  {
   "cell_type": "code",
   "execution_count": 14,
   "metadata": {
    "colab": {
     "base_uri": "https://localhost:8080/",
     "height": 445
    },
    "colab_type": "code",
    "id": "PqAVagsRyG3r",
    "outputId": "7caf5e2d-13a6-4faa-ca76-bf99ee53f43d"
   },
   "outputs": [
    {
     "name": "stderr",
     "output_type": "stream",
     "text": [
      "/usr/local/lib/python3.6/dist-packages/tensorflow/python/framework/indexed_slices.py:434: UserWarning: Converting sparse IndexedSlices to a dense Tensor of unknown shape. This may consume a large amount of memory.\n",
      "  \"Converting sparse IndexedSlices to a dense Tensor of unknown shape. \"\n"
     ]
    },
    {
     "name": "stdout",
     "output_type": "stream",
     "text": [
      "Train on 25000 samples, validate on 25000 samples\n",
      "Epoch 1/10\n",
      " - 8s - loss: 0.6948 - accuracy: 0.5113 - val_loss: 0.6909 - val_accuracy: 0.5332\n",
      "Epoch 2/10\n",
      " - 7s - loss: 0.6802 - accuracy: 0.5968 - val_loss: 0.6829 - val_accuracy: 0.5599\n",
      "Epoch 3/10\n",
      " - 7s - loss: 0.6501 - accuracy: 0.6734 - val_loss: 0.6485 - val_accuracy: 0.6402\n",
      "Epoch 4/10\n",
      " - 7s - loss: 0.5828 - accuracy: 0.7281 - val_loss: 0.5791 - val_accuracy: 0.7051\n",
      "Epoch 5/10\n",
      " - 7s - loss: 0.4798 - accuracy: 0.7862 - val_loss: 0.4874 - val_accuracy: 0.7728\n",
      "Epoch 6/10\n",
      " - 7s - loss: 0.3592 - accuracy: 0.8560 - val_loss: 0.3986 - val_accuracy: 0.8244\n",
      "Epoch 7/10\n",
      " - 7s - loss: 0.2612 - accuracy: 0.9029 - val_loss: 0.3446 - val_accuracy: 0.8510\n",
      "Epoch 8/10\n",
      " - 7s - loss: 0.2044 - accuracy: 0.9248 - val_loss: 0.3308 - val_accuracy: 0.8584\n",
      "Epoch 9/10\n",
      " - 7s - loss: 0.1604 - accuracy: 0.9435 - val_loss: 0.3205 - val_accuracy: 0.8646\n",
      "Epoch 10/10\n",
      " - 7s - loss: 0.1232 - accuracy: 0.9594 - val_loss: 0.3182 - val_accuracy: 0.8680\n"
     ]
    },
    {
     "data": {
      "text/plain": [
       "<keras.callbacks.callbacks.History at 0x7fdde6875f28>"
      ]
     },
     "execution_count": 14,
     "metadata": {
      "tags": []
     },
     "output_type": "execute_result"
    }
   ],
   "source": [
    "model.fit(X_train, y_train, validation_data=(X_test, y_test), epochs=10, batch_size=5120, verbose=2, callbacks=[reduce_lr, stop])"
   ]
  },
  {
   "cell_type": "markdown",
   "metadata": {
    "colab_type": "text",
    "id": "-LjtF_kKmqLy"
   },
   "source": [
    "### 5. Report the accuracy of the model (5 points)"
   ]
  },
  {
   "cell_type": "code",
   "execution_count": 15,
   "metadata": {
    "colab": {
     "base_uri": "https://localhost:8080/",
     "height": 34
    },
    "colab_type": "code",
    "id": "ov2153z20Gqm",
    "outputId": "caaf3c62-c02f-4dc9-b28b-7fde0d552569"
   },
   "outputs": [
    {
     "name": "stdout",
     "output_type": "stream",
     "text": [
      "Accuracy: 86.80%\n"
     ]
    }
   ],
   "source": [
    "scores = model.evaluate(X_test, y_test, verbose=0)\n",
    "print(\"Accuracy: %.2f%%\" % (scores[1]*100))"
   ]
  },
  {
   "cell_type": "code",
   "execution_count": 55,
   "metadata": {
    "colab": {
     "base_uri": "https://localhost:8080/",
     "height": 139
    },
    "colab_type": "code",
    "id": "0YoWf6-kxpMA",
    "outputId": "4ad59142-f766-4848-af96-938ccad77bef"
   },
   "outputs": [
    {
     "name": "stdout",
     "output_type": "stream",
     "text": [
      "First things first, grab a couple of tissues before you start watching ‘Dil Bechara’, an adaptation of John Green's novel, The Fault in Our Stars. Without Sushant, this one’s going to be really hard. The movie, as seen from the trailer, opens on this note - “Once upon a time, there was a Prince and a Princess. Both died. End of story.” Well, isn’t this completely contrary to what we’ve been listening to, all this while?\n",
      "Positive\n",
      "----------------------------------------------------------------------------------------------------\n",
      "The film is flooded with songs and unfortunately they are not great fun to watch. Sonam Kapoor’s ‘Rajshri’ girl act fails too.\n",
      "Negative\n",
      "----------------------------------------------------------------------------------------------------\n"
     ]
    }
   ],
   "source": [
    "import re\n",
    "\n",
    "reviews = []\n",
    "reviews.append(\"First things first, grab a couple of tissues before you start watching ‘Dil Bechara’, an adaptation of John Green's novel, The Fault in Our Stars. Without Sushant, this one’s going to be really hard. The movie, as seen from the trailer, opens on this note - “Once upon a time, there was a Prince and a Princess. Both died. End of story.” Well, isn’t this completely contrary to what we’ve been listening to, all this while?\")\n",
    "reviews.append(\"The film is flooded with songs and unfortunately they are not great fun to watch. Sonam Kapoor’s ‘Rajshri’ girl act fails too.\")\n",
    "\n",
    "data = []\n",
    "# cleansing\n",
    "for review in reviews:\n",
    "  review = review.replace(\",\", \"\")\n",
    "  review = review.replace(\"‘\", \"\")\n",
    "  review = review.replace(\"’\", \"\")\n",
    "  review = review.replace(\".\", \"\")\n",
    "  review = review.replace('\"', '')\n",
    "  review = review.replace('”', '')\n",
    "  review = review.replace('“', '')\n",
    "  review = review.replace(\"-\", \"\")\n",
    "  review = review.replace(\"?\", \"\")\n",
    "  review = review.replace(\"!\", \"\")\n",
    "  review = review.replace(\"!\", \"\")\n",
    "  review = re.sub(' +', ' ', review)\n",
    "  review = review.lower()\n",
    "  review_ids = []\n",
    "  for word in review.split():\n",
    "    if word in word_to_id.keys() and word_to_id[word] < NUM_OF_WORDS:\n",
    "      review_ids.append(word_to_id[word])\n",
    "    else:\n",
    "      review_ids.append(0)\n",
    "  data.append(review_ids)\n",
    "\n",
    "# Padding\n",
    "X_data = sequence.pad_sequences(data, maxlen=MAX_WORDS)\n",
    "\n",
    "# Predicting\n",
    "sentiments = model.predict(X_data)\n",
    "\n",
    "for r, s in zip(reviews, sentiments):\n",
    "  sentiment = None\n",
    "  if s[0] > 0.5:\n",
    "    sentiment = \"Positive\"\n",
    "  else:\n",
    "    sentiment = \"Negative\"\n",
    "  print(r)\n",
    "  print(sentiment)\n",
    "  print('-'*100)"
   ]
  },
  {
   "cell_type": "code",
   "execution_count": 16,
   "metadata": {
    "colab": {},
    "colab_type": "code",
    "id": "sg7ImVguhcC7"
   },
   "outputs": [],
   "source": [
    "history_dict = model.history.history"
   ]
  },
  {
   "cell_type": "code",
   "execution_count": 17,
   "metadata": {
    "colab": {},
    "colab_type": "code",
    "id": "KIH53FhvZyss"
   },
   "outputs": [],
   "source": [
    "import matplotlib.pyplot as plt"
   ]
  },
  {
   "cell_type": "code",
   "execution_count": 18,
   "metadata": {
    "colab": {
     "base_uri": "https://localhost:8080/",
     "height": 295
    },
    "colab_type": "code",
    "id": "lkcd_b_449sW",
    "outputId": "efce10c6-b75c-41ec-c2d6-d9dcbaf9324e"
   },
   "outputs": [
    {
     "data": {
      "image/png": "[encoded data removed]",
      "text/plain": [
       "<Figure size 432x288 with 1 Axes>"
      ]
     },
     "metadata": {
      "needs_background": "light",
      "tags": []
     },
     "output_type": "display_data"
    }
   ],
   "source": [
    "loss_values = history_dict['loss']\n",
    "val_loss_values = history_dict['val_loss']\n",
    "epochs = range(1, (len(history_dict['loss']) + 1))\n",
    "plt.plot(epochs, loss_values, 'bo', label='Training loss')\n",
    "plt.plot(epochs, val_loss_values, 'b', label='Validation loss')\n",
    "plt.title('Training and validation loss')\n",
    "plt.xlabel('Epochs')\n",
    "plt.ylabel('Loss')\n",
    "plt.legend()\n",
    "plt.show()"
   ]
  },
  {
   "cell_type": "code",
   "execution_count": 19,
   "metadata": {
    "colab": {
     "base_uri": "https://localhost:8080/",
     "height": 295
    },
    "colab_type": "code",
    "id": "UCxnumlY5UU3",
    "outputId": "3b8def3e-a767-4b4f-f1e6-20cc72afb077"
   },
   "outputs": [
    {
     "data": {
      "image/png": "[encoded data removed]",
      "text/plain": [
       "<Figure size 432x288 with 1 Axes>"
      ]
     },
     "metadata": {
      "needs_background": "light",
      "tags": []
     },
     "output_type": "display_data"
    }
   ],
   "source": [
    "acc_values = history_dict['accuracy']\n",
    "val_acc_values = history_dict['val_accuracy']\n",
    "epochs = range(1, (len(history_dict['accuracy']) + 1))\n",
    "plt.plot(epochs, acc_values, 'bo', label='Training acc')\n",
    "plt.plot(epochs, val_acc_values, 'b', label='Validation acc')\n",
    "plt.title('Training and validation accuracy')\n",
    "plt.xlabel('Epochs')\n",
    "plt.ylabel('Accuracy')\n",
    "plt.legend()\n",
    "plt.show()"
   ]
  },
  {
   "cell_type": "markdown",
   "metadata": {
    "colab_type": "text",
    "id": "Cils4z95nCFB"
   },
   "source": [
    "### 6. Retrieve the output of each layer in Keras for given single test sample from the trained model you built (5 points)"
   ]
  },
  {
   "cell_type": "code",
   "execution_count": 20,
   "metadata": {
    "colab": {},
    "colab_type": "code",
    "id": "v_IKKFopaqFA"
   },
   "outputs": [],
   "source": [
    "from keras import backend"
   ]
  },
  {
   "cell_type": "code",
   "execution_count": 21,
   "metadata": {
    "colab": {
     "base_uri": "https://localhost:8080/",
     "height": 1000
    },
    "colab_type": "code",
    "id": "DbETYsDfaeMy",
    "outputId": "af378283-7ddd-44e7-b7e0-b7f9d7e63c41"
   },
   "outputs": [
    {
     "name": "stdout",
     "output_type": "stream",
     "text": [
      "[[array([[[-0.00321532,  0.01983809, -0.00101825, ...,  0.00143346,\n",
      "         -0.00667386, -0.01447449],\n",
      "        [-0.00321532,  0.01983809, -0.00101825, ...,  0.00143346,\n",
      "         -0.00667386, -0.01447449],\n",
      "        [-0.00321532,  0.01983809, -0.00101825, ...,  0.00143346,\n",
      "         -0.00667386, -0.01447449],\n",
      "        ...,\n",
      "        [ 0.04033377,  0.03230646, -0.05055729, ...,  0.01255448,\n",
      "         -0.05719073, -0.0165011 ],\n",
      "        [ 0.02505094, -0.02289302, -0.02939019, ...,  0.03457985,\n",
      "         -0.02352019,  0.02984515],\n",
      "        [-0.00470379, -0.06706568,  0.03083603, ...,  0.0061283 ,\n",
      "          0.04100207, -0.0290053 ]],\n",
      "\n",
      "       [[-0.00321532,  0.01983809, -0.00101825, ...,  0.00143346,\n",
      "         -0.00667386, -0.01447449],\n",
      "        [-0.00321532,  0.01983809, -0.00101825, ...,  0.00143346,\n",
      "         -0.00667386, -0.01447449],\n",
      "        [-0.00321532,  0.01983809, -0.00101825, ...,  0.00143346,\n",
      "         -0.00667386, -0.01447449],\n",
      "        ...,\n",
      "        [ 0.01134673,  0.03686079,  0.01704335, ...,  0.03321371,\n",
      "         -0.00851301, -0.00085491],\n",
      "        [-0.08190118, -0.02028693, -0.02368251, ...,  0.02586226,\n",
      "          0.04033883, -0.05675539],\n",
      "        [-0.01168515,  0.01599992, -0.06016837, ..., -0.01857317,\n",
      "         -0.03502553,  0.0604135 ]],\n",
      "\n",
      "       [[-0.00321532,  0.01983809, -0.00101825, ...,  0.00143346,\n",
      "         -0.00667386, -0.01447449],\n",
      "        [-0.00321532,  0.01983809, -0.00101825, ...,  0.00143346,\n",
      "         -0.00667386, -0.01447449],\n",
      "        [-0.00321532,  0.01983809, -0.00101825, ...,  0.00143346,\n",
      "         -0.00667386, -0.01447449],\n",
      "        ...,\n",
      "        [-0.05120698,  0.03573408, -0.00476747, ..., -0.06985444,\n",
      "         -0.03702062,  0.02269981],\n",
      "        [ 0.01927046, -0.01647197, -0.05709135, ...,  0.03565522,\n",
      "         -0.00407005, -0.00592902],\n",
      "        [ 0.01506361,  0.05865463,  0.05716489, ..., -0.00341825,\n",
      "          0.00325965,  0.05638073]],\n",
      "\n",
      "       ...,\n",
      "\n",
      "       [[-0.00321532,  0.01983809, -0.00101825, ...,  0.00143346,\n",
      "         -0.00667386, -0.01447449],\n",
      "        [-0.00321532,  0.01983809, -0.00101825, ...,  0.00143346,\n",
      "         -0.00667386, -0.01447449],\n",
      "        [-0.00321532,  0.01983809, -0.00101825, ...,  0.00143346,\n",
      "         -0.00667386, -0.01447449],\n",
      "        ...,\n",
      "        [-0.06553166, -0.04874283,  0.04498982, ...,  0.03139486,\n",
      "         -0.06420372, -0.05764206],\n",
      "        [-0.0261394 ,  0.04890757, -0.03728895, ...,  0.01908711,\n",
      "         -0.01942125, -0.02329397],\n",
      "        [-0.04005316, -0.01931008, -0.00486209, ..., -0.04046953,\n",
      "         -0.05582816, -0.04175172]],\n",
      "\n",
      "       [[-0.00321532,  0.01983809, -0.00101825, ...,  0.00143346,\n",
      "         -0.00667386, -0.01447449],\n",
      "        [-0.00321532,  0.01983809, -0.00101825, ...,  0.00143346,\n",
      "         -0.00667386, -0.01447449],\n",
      "        [-0.00321532,  0.01983809, -0.00101825, ...,  0.00143346,\n",
      "         -0.00667386, -0.01447449],\n",
      "        ...,\n",
      "        [ 0.01234183, -0.0344169 , -0.0050595 , ..., -0.01568254,\n",
      "          0.025151  , -0.07430631],\n",
      "        [ 0.00956269,  0.0056439 , -0.01056777, ...,  0.03165376,\n",
      "          0.02334604, -0.01349308],\n",
      "        [-0.05932761,  0.02973104,  0.01000453, ..., -0.06889702,\n",
      "          0.00345189, -0.02611429]],\n",
      "\n",
      "       [[-0.00321532,  0.01983809, -0.00101825, ...,  0.00143346,\n",
      "         -0.00667386, -0.01447449],\n",
      "        [-0.00321532,  0.01983809, -0.00101825, ...,  0.00143346,\n",
      "         -0.00667386, -0.01447449],\n",
      "        [-0.00321532,  0.01983809, -0.00101825, ...,  0.00143346,\n",
      "         -0.00667386, -0.01447449],\n",
      "        ...,\n",
      "        [-0.03187459,  0.02076556, -0.0835191 , ...,  0.02210253,\n",
      "          0.02226244, -0.07370401],\n",
      "        [-0.00160851, -0.02032291,  0.06645181, ...,  0.04635845,\n",
      "          0.06078559, -0.04988798],\n",
      "        [ 0.00956269,  0.0056439 , -0.01056777, ...,  0.03165376,\n",
      "          0.02334604, -0.01349308]]], dtype=float32)], [array([[-0.00321532,  0.01983809, -0.00101825, ...,  0.0061283 ,\n",
      "         0.04100207, -0.0290053 ],\n",
      "       [-0.00321532,  0.01983809, -0.00101825, ..., -0.01857317,\n",
      "        -0.03502553,  0.0604135 ],\n",
      "       [-0.00321532,  0.01983809, -0.00101825, ..., -0.00341825,\n",
      "         0.00325965,  0.05638073],\n",
      "       ...,\n",
      "       [-0.00321532,  0.01983809, -0.00101825, ..., -0.04046953,\n",
      "        -0.05582816, -0.04175172],\n",
      "       [-0.00321532,  0.01983809, -0.00101825, ..., -0.06889702,\n",
      "         0.00345189, -0.02611429],\n",
      "       [-0.00321532,  0.01983809, -0.00101825, ...,  0.03165376,\n",
      "         0.02334604, -0.01349308]], dtype=float32)], [array([[0.6301452 , 0.60724676, 0.1729641 , ..., 0.56320375, 0.        ,\n",
      "        0.60711837],\n",
      "       [0.15890896, 0.11799102, 0.66585046, ..., 0.16759239, 0.52351385,\n",
      "        0.12472349],\n",
      "       [0.04386721, 0.04729589, 0.7279995 , ..., 0.0844334 , 0.67580724,\n",
      "        0.        ],\n",
      "       ...,\n",
      "       [0.13542825, 0.15596423, 0.7066851 , ..., 0.23501973, 0.5601637 ,\n",
      "        0.20571685],\n",
      "       [0.6119507 , 0.55402195, 0.17938961, ..., 0.4551987 , 0.11527833,\n",
      "        0.5828576 ],\n",
      "       [0.25678584, 0.2319504 , 0.64893067, ..., 0.23204462, 0.47063836,\n",
      "        0.26180092]], dtype=float32)], [array([[9.9949396e-01],\n",
      "       [2.3927689e-03],\n",
      "       [8.5836649e-04],\n",
      "       ...,\n",
      "       [3.7516356e-03],\n",
      "       [9.9379551e-01],\n",
      "       [6.7949265e-02]], dtype=float32)]]\n"
     ]
    }
   ],
   "source": [
    "outputs = [backend.function([model.input], [layer.output])([X_train, 1]) for layer in model.layers]\n",
    "print(outputs)"
   ]
  }
 ],
 "metadata": {
  "colab": {
   "collapsed_sections": [],
   "name": "Project - Sentiment Classification: Sequential NLP [Jimit Patel]",
   "provenance": []
  },
  "kernelspec": {
   "display_name": "Python 3",
   "language": "python",
   "name": "python3"
  },
  "language_info": {
   "codemirror_mode": {
    "name": "ipython",
    "version": 3
   },
   "file_extension": ".py",
   "mimetype": "text/x-python",
   "name": "python",
   "nbconvert_exporter": "python",
   "pygments_lexer": "ipython3",
   "version": "3.6.10"
  }
 },
 "nbformat": 4,
 "nbformat_minor": 1
}
